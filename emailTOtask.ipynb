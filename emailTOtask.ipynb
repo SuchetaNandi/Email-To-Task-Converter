{
 "cells": [
  {
   "cell_type": "code",
   "execution_count": 1,
   "metadata": {
    "id": "955235b5-bdd3-41d4-b39c-1d1452c829c1"
   },
   "outputs": [],
   "source": [
    "import os, getpass\n",
    "from pandas import read_csv"
   ]
  },
  {
   "cell_type": "code",
   "execution_count": 2,
   "metadata": {
    "id": "66cd6b5c-700e-4cd2-8413-4bd97fee1ba9"
   },
   "outputs": [],
   "source": [
    "import pandas as pd\n",
    "from ibm_watsonx_ai.foundation_models import Model\n",
    "from ibm_watsonx_ai.metanames import GenTextParamsMetaNames as GenParams\n",
    "from ibm_watsonx_ai import Credentials"
   ]
  },
  {
   "cell_type": "code",
   "execution_count": null,
   "metadata": {
    "id": "1f9909a8-7f6f-4fd1-bb73-dc461939c341"
   },
   "outputs": [
    {
     "name": "stdout",
     "output_type": "stream",
     "text": [
      "Enter your API key:  ········\n"
     ]
    }
   ],
   "source": [
    "credentials = {\n",
    "    \"url\" : \"https://eu-de.ml.cloud.ibm.com\" ,\n",
    "    \"apikey\" : getpass.getpass(\"Enter your API key: \")\n",
    "}"
   ]
  },
  {
   "cell_type": "code",
   "execution_count": 4,
   "metadata": {
    "id": "88b1830a-c557-436e-b80b-d0e9de7885b9"
   },
   "outputs": [],
   "source": [
    "try:\n",
    "    project_id=os.environ[\"PROJECT_ID\"]\n",
    "\n",
    "except KeyError:\n",
    "    project_id = input(\"please enter your project_id:\")"
   ]
  },
  {
   "cell_type": "code",
   "execution_count": 5,
   "metadata": {
    "id": "daa647aa-ab77-40b4-9c2c-baaf76bb338f"
   },
   "outputs": [
    {
     "data": {
      "text/plain": [
       "'0687afb3-030b-4c62-b2a7-a900db677b28'"
      ]
     },
     "execution_count": 5,
     "metadata": {},
     "output_type": "execute_result"
    }
   ],
   "source": [
    "project_id"
   ]
  },
  {
   "cell_type": "code",
   "execution_count": null,
   "metadata": {
    "id": "a9e365b1-ee39-4519-89b6-837c0b3d5f4e"
   },
   "outputs": [
    {
     "data": {
      "text/html": [
       "<div>\n",
       "<style scoped>\n",
       "    .dataframe tbody tr th:only-of-type {\n",
       "        vertical-align: middle;\n",
       "    }\n",
       "\n",
       "    .dataframe tbody tr th {\n",
       "        vertical-align: top;\n",
       "    }\n",
       "\n",
       "    .dataframe thead th {\n",
       "        text-align: right;\n",
       "    }\n",
       "</style>\n",
       "<table border=\"1\" class=\"dataframe\">\n",
       "  <thead>\n",
       "    <tr style=\"text-align: right;\">\n",
       "      <th></th>\n",
       "      <th>file</th>\n",
       "      <th>message</th>\n",
       "    </tr>\n",
       "  </thead>\n",
       "  <tbody>\n",
       "    <tr>\n",
       "      <th>0</th>\n",
       "      <td>allen-p/_sent_mail/1.</td>\n",
       "      <td>Message-ID: &lt;18782981.1075855378110.JavaMail.e...</td>\n",
       "    </tr>\n",
       "    <tr>\n",
       "      <th>1</th>\n",
       "      <td>allen-p/_sent_mail/10.</td>\n",
       "      <td>Message-ID: &lt;15464986.1075855378456.JavaMail.e...</td>\n",
       "    </tr>\n",
       "    <tr>\n",
       "      <th>2</th>\n",
       "      <td>allen-p/_sent_mail/100.</td>\n",
       "      <td>Message-ID: &lt;24216240.1075855687451.JavaMail.e...</td>\n",
       "    </tr>\n",
       "    <tr>\n",
       "      <th>3</th>\n",
       "      <td>allen-p/_sent_mail/1000.</td>\n",
       "      <td>Message-ID: &lt;13505866.1075863688222.JavaMail.e...</td>\n",
       "    </tr>\n",
       "    <tr>\n",
       "      <th>4</th>\n",
       "      <td>allen-p/_sent_mail/1001.</td>\n",
       "      <td>Message-ID: &lt;30922949.1075863688243.JavaMail.e...</td>\n",
       "    </tr>\n",
       "    <tr>\n",
       "      <th>5</th>\n",
       "      <td>allen-p/_sent_mail/1002.</td>\n",
       "      <td>Message-ID: &lt;30965995.1075863688265.JavaMail.e...</td>\n",
       "    </tr>\n",
       "    <tr>\n",
       "      <th>6</th>\n",
       "      <td>allen-p/_sent_mail/1003.</td>\n",
       "      <td>Message-ID: &lt;16254169.1075863688286.JavaMail.e...</td>\n",
       "    </tr>\n",
       "    <tr>\n",
       "      <th>7</th>\n",
       "      <td>allen-p/_sent_mail/1004.</td>\n",
       "      <td>Message-ID: &lt;17189699.1075863688308.JavaMail.e...</td>\n",
       "    </tr>\n",
       "    <tr>\n",
       "      <th>8</th>\n",
       "      <td>allen-p/_sent_mail/101.</td>\n",
       "      <td>Message-ID: &lt;20641191.1075855687472.JavaMail.e...</td>\n",
       "    </tr>\n",
       "    <tr>\n",
       "      <th>9</th>\n",
       "      <td>allen-p/_sent_mail/102.</td>\n",
       "      <td>Message-ID: &lt;30795301.1075855687494.JavaMail.e...</td>\n",
       "    </tr>\n",
       "  </tbody>\n",
       "</table>\n",
       "</div>"
      ],
      "text/plain": [
       "                       file                                            message\n",
       "0     allen-p/_sent_mail/1.  Message-ID: <18782981.1075855378110.JavaMail.e...\n",
       "1    allen-p/_sent_mail/10.  Message-ID: <15464986.1075855378456.JavaMail.e...\n",
       "2   allen-p/_sent_mail/100.  Message-ID: <24216240.1075855687451.JavaMail.e...\n",
       "3  allen-p/_sent_mail/1000.  Message-ID: <13505866.1075863688222.JavaMail.e...\n",
       "4  allen-p/_sent_mail/1001.  Message-ID: <30922949.1075863688243.JavaMail.e...\n",
       "5  allen-p/_sent_mail/1002.  Message-ID: <30965995.1075863688265.JavaMail.e...\n",
       "6  allen-p/_sent_mail/1003.  Message-ID: <16254169.1075863688286.JavaMail.e...\n",
       "7  allen-p/_sent_mail/1004.  Message-ID: <17189699.1075863688308.JavaMail.e...\n",
       "8   allen-p/_sent_mail/101.  Message-ID: <20641191.1075855687472.JavaMail.e...\n",
       "9   allen-p/_sent_mail/102.  Message-ID: <30795301.1075855687494.JavaMail.e..."
      ]
     },
     "execution_count": 6,
     "metadata": {},
     "output_type": "execute_result"
    }
   ],
   "source": [
    "import os, types\n",
    "import pandas as pd\n",
    "from botocore.client import Config\n",
    "import ibm_boto3\n",
    "\n",
    "def __iter__(self): return 0\n",
    "\n",
    "# @hidden_cell\n",
    "# The following code accesses a file in your IBM Cloud Object Storage. It includes your credentials.\n",
    "# You might want to remove those credentials before you share the notebook.\n",
    "\n",
    "cos_client = ibm_boto3.client(service_name='s3',\n",
    "    ibm_api_key_id='gI-RvDaGDHqk0IRGXPPiAXcgcghv1SVVK3C63f-zNEyx',\n",
    "    ibm_auth_endpoint=\"https://iam.cloud.ibm.com/identity/token\",\n",
    "    config=Config(signature_version='oauth'),\n",
    "    endpoint_url='https://s3.direct.eu-de.cloud-object-storage.appdomain.cloud')\n",
    "\n",
    "bucket = 'project1-donotdelete-pr-bmlokidkz3xa5x'\n",
    "object_key = 'emails.csv'\n",
    "\n",
    "body = cos_client.get_object(Bucket=bucket,Key=object_key)['Body']\n",
    "# add missing __iter__ method, so pandas accepts body as file-like object\n",
    "if not hasattr(body, \"__iter__\"): body.__iter__ = types.MethodType( __iter__, body )\n",
    "\n",
    "df_1 = pd.read_csv(body)\n",
    "df_1.head(10)\n"
   ]
  },
  {
   "cell_type": "code",
   "execution_count": 10,
   "metadata": {
    "id": "c6a04c1c-ffd7-4862-bbd2-470953260adb"
   },
   "outputs": [
    {
     "name": "stderr",
     "output_type": "stream",
     "text": [
      "/opt/conda/envs/Python-RT24.1/lib/python3.11/site-packages/ibm_watsonx_ai/foundation_models/model.py:105: DeprecationWarning: The `Model` class is deprecated and will be removed in a future release. Please use the `ModelInference` class instead. To update your imports, use: `from ibm_watsonx_ai.foundation_models import ModelInference`.\n",
      "  warn(model_class_deprecated_warning, category=DeprecationWarning)\n"
     ]
    }
   ],
   "source": [
    "model = Model(\n",
    "    model_id=\"ibm/granite-13b-instruct-v2\",  # You can also try \"granite-13b-instruct-v1\"\n",
    "    credentials=credentials,\n",
    "    project_id= project_id,\n",
    "    params={\n",
    "        GenParams.MAX_NEW_TOKENS: 200,\n",
    "        GenParams.TEMPERATURE: 0.5,\n",
    "        GenParams.DECODING_METHOD: \"greedy\"\n",
    "    }\n",
    ")"
   ]
  },
  {
   "cell_type": "code",
   "execution_count": 18,
   "metadata": {
    "id": "231da3e6-4e2b-484d-a11b-b0399d8d0f4f"
   },
   "outputs": [],
   "source": [
    "def extract_tasks(email_text):\n",
    "    prompt = f\"\"\"\n",
    "You are a helpful assistant. Extract clear and actionable tasks from the following email and list them as bullet points.\n",
    "\n",
    "Email:\n",
    "\\\"\\\"\\\"{email_text}\\\"\\\"\\\"\n",
    "\n",
    "Tasks:\n",
    "\"\"\"\n",
    "    response = model.generate_text(prompt=prompt)\n",
    "    return response.strip()"
   ]
  },
  {
   "cell_type": "code",
   "execution_count": 20,
   "metadata": {
    "id": "488d380a-f214-4b67-93a1-159b7816e0c7"
   },
   "outputs": [],
   "source": [
    "df_sample = df_1.head(5)"
   ]
  },
  {
   "cell_type": "code",
   "execution_count": 21,
   "metadata": {
    "id": "c1b45bf2-4884-4f3f-9b8a-c0a37959bc54"
   },
   "outputs": [
    {
     "name": "stdout",
     "output_type": "stream",
     "text": [
      "Index(['file', 'message'], dtype='object')\n"
     ]
    }
   ],
   "source": [
    "print(df_sample.columns)"
   ]
  },
  {
   "cell_type": "code",
   "execution_count": 23,
   "metadata": {
    "id": "5734687e-1890-4baf-9628-46c10c84ab99"
   },
   "outputs": [
    {
     "name": "stdout",
     "output_type": "stream",
     "text": [
      "Email 1:\n",
      "Message-ID: <18782981.1075855378110.JavaMail.evans@thyme>\n",
      "Date: Mon, 14 May 2001 16:39:00 -0700 (PDT)\n",
      "From: phillip.allen@enron.com\n",
      "To: tim.belden@enron.com\n",
      "Subject: \n",
      "Mime-Version: 1.0\n",
      "Content-Type: text/plain; charset=us-ascii\n",
      "Content-Transfer-Encoding: 7bit\n",
      "X-From: Phillip K Allen\n",
      "X-To: Tim Belden <Tim Belden/Enron@EnronXGate>\n",
      "X-cc: \n",
      "X-bcc: \n",
      "X-Folder: \\Phillip_Allen_Jan2002_1\\Allen, Phillip K.\\'Sent Mail\n",
      "X-Origin: Allen-P\n",
      "X-FileName: pallen (Non-Privileged).pst\n",
      "\n",
      "Here is our forecast\n",
      "\n",
      " \n",
      "Extracted Tasks:\n",
      "- Read the attached file.\n",
      "- Extract the forecast.\n",
      "\n",
      "Email 2:\n",
      "Message-ID: <15464986.1075855378456.JavaMail.evans@thyme>\n",
      "Date: Fri, 4 May 2001 13:51:00 -0700 (PDT)\n",
      "From: phillip.allen@enron.com\n",
      "To: john.lavorato@enron.com\n",
      "Subject: Re:\n",
      "Mime-Version: 1.0\n",
      "Content-Type: text/plain; charset=us-ascii\n",
      "Content-Transfer-Encoding: 7bit\n",
      "X-From: Phillip K Allen\n",
      "X-To: John J Lavorato <John J Lavorato/ENRON@enronXgate@ENRON>\n",
      "X-cc: \n",
      "X-bcc: \n",
      "X-Folder: \\Phillip_Allen_Jan2002_1\\Allen, Phillip K.\\'Sent Mail\n",
      "X-Origin: Allen-P\n",
      "X-FileName: pallen (Non-Privileged).pst\n",
      "\n",
      "Traveling to have a business meeting takes the fun out of the trip.  Especially if you have to prepare a presentation.  I would suggest holding the business plan meetings here then take a trip without any formal business meetings.  I would even try and get some honest opinions on whether a trip is even desired or necessary.\n",
      "\n",
      "As far as the business meetings, I think it would be more productive to try and stimulate discussions across the different groups about what is working and what is not.  Too often the presenter speaks and the others are quiet just waiting for their turn.   The meetings might be better if held in a round table discussion format.  \n",
      "\n",
      "My suggestion for where to go is Austin.  Play golf and rent a ski boat and jet ski's.  Flying somewhere takes too much time.\n",
      "\n",
      "Extracted Tasks:\n",
      "- Have business meetings in Austin.\n",
      "- Have a round table discussion.\n",
      "- Have fun on the trip.\n",
      "\n",
      "Email 3:\n",
      "Message-ID: <24216240.1075855687451.JavaMail.evans@thyme>\n",
      "Date: Wed, 18 Oct 2000 03:00:00 -0700 (PDT)\n",
      "From: phillip.allen@enron.com\n",
      "To: leah.arsdall@enron.com\n",
      "Subject: Re: test\n",
      "Mime-Version: 1.0\n",
      "Content-Type: text/plain; charset=us-ascii\n",
      "Content-Transfer-Encoding: 7bit\n",
      "X-From: Phillip K Allen\n",
      "X-To: Leah Van Arsdall\n",
      "X-cc: \n",
      "X-bcc: \n",
      "X-Folder: \\Phillip_Allen_Dec2000\\Notes Folders\\'sent mail\n",
      "X-Origin: Allen-P\n",
      "X-FileName: pallen.nsf\n",
      "\n",
      "test successful.  way to go!!!\n",
      "Extracted Tasks:\n",
      "- Thank people for helping.\n",
      "- Let people know you appreciate them.\n",
      "\n",
      "Email 4:\n",
      "Message-ID: <13505866.1075863688222.JavaMail.evans@thyme>\n",
      "Date: Mon, 23 Oct 2000 06:13:00 -0700 (PDT)\n",
      "From: phillip.allen@enron.com\n",
      "To: randall.gay@enron.com\n",
      "Subject: \n",
      "Mime-Version: 1.0\n",
      "Content-Type: text/plain; charset=us-ascii\n",
      "Content-Transfer-Encoding: 7bit\n",
      "X-From: Phillip K Allen\n",
      "X-To: Randall L Gay\n",
      "X-cc: \n",
      "X-bcc: \n",
      "X-Folder: \\Phillip_Allen_Dec2000\\Notes Folders\\'sent mail\n",
      "X-Origin: Allen-P\n",
      "X-FileName: pallen.nsf\n",
      "\n",
      "Randy,\n",
      "\n",
      " Can you send me a schedule of the salary and level of everyone in the \n",
      "scheduling group.  Plus your thoughts on any changes that need to be made.  \n",
      "(Patti S for example)\n",
      "\n",
      "Phillip\n",
      "Extracted Tasks:\n",
      "-    Randall should send a schedule of the salary and level of everyone in the scheduling group.\n",
      "-    Randall should also send his thoughts on any changes that need to be made.\n",
      "\n",
      "Email 5:\n",
      "Message-ID: <30922949.1075863688243.JavaMail.evans@thyme>\n",
      "Date: Thu, 31 Aug 2000 05:07:00 -0700 (PDT)\n",
      "From: phillip.allen@enron.com\n",
      "To: greg.piper@enron.com\n",
      "Subject: Re: Hello\n",
      "Mime-Version: 1.0\n",
      "Content-Type: text/plain; charset=us-ascii\n",
      "Content-Transfer-Encoding: 7bit\n",
      "X-From: Phillip K Allen\n",
      "X-To: Greg Piper\n",
      "X-cc: \n",
      "X-bcc: \n",
      "X-Folder: \\Phillip_Allen_Dec2000\\Notes Folders\\'sent mail\n",
      "X-Origin: Allen-P\n",
      "X-FileName: pallen.nsf\n",
      "\n",
      "Let's shoot for Tuesday at 11:45.  \n",
      "Extracted Tasks:\n",
      "- Tuesday at 11:45.\n",
      "\n"
     ]
    }
   ],
   "source": [
    "for idx, row in df_sample.iterrows():\n",
    "    print(f\"Email {idx+1}:\\n{row['message']}\")\n",
    "    tasks = extract_tasks(row['message'])\n",
    "    print(f\"Extracted Tasks:\\n{tasks}\\n\")"
   ]
  }
 ],
 "metadata": {
  "kernelspec": {
   "display_name": "Python 3.11",
   "language": "python",
   "name": "python3"
  },
  "language_info": {
   "codemirror_mode": {
    "name": "ipython",
    "version": 3
   },
   "file_extension": ".py",
   "mimetype": "text/x-python",
   "name": "python",
   "nbconvert_exporter": "python",
   "pygments_lexer": "ipython3",
   "version": "3.11.9"
  }
 },
 "nbformat": 4,
 "nbformat_minor": 4
}
